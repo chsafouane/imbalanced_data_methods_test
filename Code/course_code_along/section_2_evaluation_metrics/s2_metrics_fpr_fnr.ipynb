{
 "metadata": {
  "language_info": {
   "codemirror_mode": {
    "name": "ipython",
    "version": 3
   },
   "file_extension": ".py",
   "mimetype": "text/x-python",
   "name": "python",
   "nbconvert_exporter": "python",
   "pygments_lexer": "ipython3",
   "version": "3.8.10"
  },
  "orig_nbformat": 4,
  "kernelspec": {
   "name": "python3",
   "display_name": "Python 3.8.10 64-bit ('imbalanced_env': conda)"
  },
  "interpreter": {
   "hash": "8a2a0f82f110b4117092850e843ebcded4096f088ba2a18a86cc5c678d7800ad"
  }
 },
 "nbformat": 4,
 "nbformat_minor": 2,
 "cells": [
  {
   "cell_type": "code",
   "execution_count": 1,
   "metadata": {},
   "outputs": [],
   "source": [
    "import pathlib\n",
    "\n",
    "import numpy as np\n",
    "import pandas as pd\n",
    "import matplotlib.pyplot as plt\n",
    "\n",
    "from sklearn.ensemble import RandomForestClassifier\n",
    "from sklearn.linear_model import LogisticRegression\n",
    "from sklearn.model_selection import train_test_split\n",
    "\n",
    "from sklearn.metrics import confusion_matrix"
   ]
  },
  {
   "cell_type": "code",
   "execution_count": 2,
   "metadata": {},
   "outputs": [],
   "source": [
    "datasets_folder = pathlib.Path(\"../../../Datasets\")\n",
    "dataset_name = \"kdd2004.csv\"\n",
    "dataset_path = datasets_folder/dataset_name\n",
    "\n",
    "if not dataset_path.exists():\n",
    "    raise FileExistsError(f\"The file indicated with {dataset_path.resolve()} doesn't exist\")"
   ]
  },
  {
   "cell_type": "code",
   "execution_count": 3,
   "metadata": {},
   "outputs": [
    {
     "output_type": "execute_result",
     "data": {
      "text/plain": [
       "      0      1     2     3     4       5     6     7     8     9  ...      65  \\\n",
       "0  52.0  32.69  0.30   2.5  20.0  1256.8 -0.89  0.33  11.0 -55.0  ...  1595.1   \n",
       "1  58.0  33.33  0.00  16.5   9.5   608.1  0.50  0.07  20.5 -52.5  ...   762.9   \n",
       "2  77.0  27.27 -0.91   6.0  58.5  1623.6 -1.40  0.02  -6.5 -48.0  ...  1491.8   \n",
       "3  41.0  27.91 -0.35   3.0  46.0  1921.6 -1.36 -0.47 -32.0 -51.5  ...  2047.7   \n",
       "4  50.0  28.00 -1.32  -9.0  12.0   464.8  0.88  0.19   8.0 -51.5  ...   479.5   \n",
       "\n",
       "     66    67   68    69     70    71    72    73  target  \n",
       "0 -1.64  2.83 -2.0 -50.0  445.2 -0.35  0.26  0.76       0  \n",
       "1  0.29  0.82 -3.0 -35.0  140.3  1.16  0.39  0.73       0  \n",
       "2  0.32 -1.29  0.0 -34.0  658.2 -0.76  0.26  0.24       0  \n",
       "3 -0.98  1.53  0.0 -49.0  554.2 -0.83  0.39  0.73       0  \n",
       "4  0.68 -0.59  2.0 -36.0   -6.9  2.02  0.14 -0.23       0  \n",
       "\n",
       "[5 rows x 75 columns]"
      ],
      "text/html": "<div>\n<style scoped>\n    .dataframe tbody tr th:only-of-type {\n        vertical-align: middle;\n    }\n\n    .dataframe tbody tr th {\n        vertical-align: top;\n    }\n\n    .dataframe thead th {\n        text-align: right;\n    }\n</style>\n<table border=\"1\" class=\"dataframe\">\n  <thead>\n    <tr style=\"text-align: right;\">\n      <th></th>\n      <th>0</th>\n      <th>1</th>\n      <th>2</th>\n      <th>3</th>\n      <th>4</th>\n      <th>5</th>\n      <th>6</th>\n      <th>7</th>\n      <th>8</th>\n      <th>9</th>\n      <th>...</th>\n      <th>65</th>\n      <th>66</th>\n      <th>67</th>\n      <th>68</th>\n      <th>69</th>\n      <th>70</th>\n      <th>71</th>\n      <th>72</th>\n      <th>73</th>\n      <th>target</th>\n    </tr>\n  </thead>\n  <tbody>\n    <tr>\n      <th>0</th>\n      <td>52.0</td>\n      <td>32.69</td>\n      <td>0.30</td>\n      <td>2.5</td>\n      <td>20.0</td>\n      <td>1256.8</td>\n      <td>-0.89</td>\n      <td>0.33</td>\n      <td>11.0</td>\n      <td>-55.0</td>\n      <td>...</td>\n      <td>1595.1</td>\n      <td>-1.64</td>\n      <td>2.83</td>\n      <td>-2.0</td>\n      <td>-50.0</td>\n      <td>445.2</td>\n      <td>-0.35</td>\n      <td>0.26</td>\n      <td>0.76</td>\n      <td>0</td>\n    </tr>\n    <tr>\n      <th>1</th>\n      <td>58.0</td>\n      <td>33.33</td>\n      <td>0.00</td>\n      <td>16.5</td>\n      <td>9.5</td>\n      <td>608.1</td>\n      <td>0.50</td>\n      <td>0.07</td>\n      <td>20.5</td>\n      <td>-52.5</td>\n      <td>...</td>\n      <td>762.9</td>\n      <td>0.29</td>\n      <td>0.82</td>\n      <td>-3.0</td>\n      <td>-35.0</td>\n      <td>140.3</td>\n      <td>1.16</td>\n      <td>0.39</td>\n      <td>0.73</td>\n      <td>0</td>\n    </tr>\n    <tr>\n      <th>2</th>\n      <td>77.0</td>\n      <td>27.27</td>\n      <td>-0.91</td>\n      <td>6.0</td>\n      <td>58.5</td>\n      <td>1623.6</td>\n      <td>-1.40</td>\n      <td>0.02</td>\n      <td>-6.5</td>\n      <td>-48.0</td>\n      <td>...</td>\n      <td>1491.8</td>\n      <td>0.32</td>\n      <td>-1.29</td>\n      <td>0.0</td>\n      <td>-34.0</td>\n      <td>658.2</td>\n      <td>-0.76</td>\n      <td>0.26</td>\n      <td>0.24</td>\n      <td>0</td>\n    </tr>\n    <tr>\n      <th>3</th>\n      <td>41.0</td>\n      <td>27.91</td>\n      <td>-0.35</td>\n      <td>3.0</td>\n      <td>46.0</td>\n      <td>1921.6</td>\n      <td>-1.36</td>\n      <td>-0.47</td>\n      <td>-32.0</td>\n      <td>-51.5</td>\n      <td>...</td>\n      <td>2047.7</td>\n      <td>-0.98</td>\n      <td>1.53</td>\n      <td>0.0</td>\n      <td>-49.0</td>\n      <td>554.2</td>\n      <td>-0.83</td>\n      <td>0.39</td>\n      <td>0.73</td>\n      <td>0</td>\n    </tr>\n    <tr>\n      <th>4</th>\n      <td>50.0</td>\n      <td>28.00</td>\n      <td>-1.32</td>\n      <td>-9.0</td>\n      <td>12.0</td>\n      <td>464.8</td>\n      <td>0.88</td>\n      <td>0.19</td>\n      <td>8.0</td>\n      <td>-51.5</td>\n      <td>...</td>\n      <td>479.5</td>\n      <td>0.68</td>\n      <td>-0.59</td>\n      <td>2.0</td>\n      <td>-36.0</td>\n      <td>-6.9</td>\n      <td>2.02</td>\n      <td>0.14</td>\n      <td>-0.23</td>\n      <td>0</td>\n    </tr>\n  </tbody>\n</table>\n<p>5 rows × 75 columns</p>\n</div>"
     },
     "metadata": {},
     "execution_count": 3
    }
   ],
   "source": [
    "df = pd.read_csv(dataset_path)\n",
    "\n",
    "df[\"target\"] = df[\"target\"].map({-1:0, 1:1})\n",
    "\n",
    "df.head()"
   ]
  },
  {
   "cell_type": "code",
   "execution_count": 4,
   "metadata": {},
   "outputs": [
    {
     "output_type": "execute_result",
     "data": {
      "text/plain": [
       "0    0.991108\n",
       "1    0.008892\n",
       "Name: target, dtype: float64"
      ]
     },
     "metadata": {},
     "execution_count": 4
    }
   ],
   "source": [
    "df[\"target\"].value_counts(normalize=True)"
   ]
  },
  {
   "cell_type": "code",
   "execution_count": 5,
   "metadata": {},
   "outputs": [
    {
     "output_type": "execute_result",
     "data": {
      "text/plain": [
       "((102025, 74), (43726, 74))"
      ]
     },
     "metadata": {},
     "execution_count": 5
    }
   ],
   "source": [
    "X_train, X_test, y_train, y_test = train_test_split(\n",
    "    df.drop(labels=[\"target\"], axis=1),\n",
    "    df[\"target\"],\n",
    "    test_size=0.3\n",
    ")\n",
    "\n",
    "X_train.shape, X_test.shape"
   ]
  },
  {
   "cell_type": "code",
   "execution_count": 6,
   "metadata": {},
   "outputs": [],
   "source": [
    "# Baseline prediction: predicting the majority class\n",
    "y_train_baseline = pd.Series(np.zeros_like(y_train))\n",
    "y_test_baseline = pd.Series(np.zeros_like(y_test))"
   ]
  },
  {
   "cell_type": "code",
   "execution_count": 7,
   "metadata": {},
   "outputs": [
    {
     "output_type": "execute_result",
     "data": {
      "text/plain": [
       "RandomForestClassifier(max_depth=2)"
      ]
     },
     "metadata": {},
     "execution_count": 7
    }
   ],
   "source": [
    "# Random forest model\n",
    "rf = RandomForestClassifier(n_estimators=100, max_depth=2)\n",
    "rf.fit(X_train, y_train)"
   ]
  },
  {
   "cell_type": "code",
   "execution_count": 8,
   "metadata": {},
   "outputs": [
    {
     "output_type": "stream",
     "name": "stderr",
     "text": [
      "C:\\Users\\safou\\anaconda3\\envs\\imbalanced_env\\lib\\site-packages\\sklearn\\linear_model\\_logistic.py:763: ConvergenceWarning: lbfgs failed to converge (status=1):\nSTOP: TOTAL NO. of ITERATIONS REACHED LIMIT.\n\nIncrease the number of iterations (max_iter) or scale the data as shown in:\n    https://scikit-learn.org/stable/modules/preprocessing.html\nPlease also refer to the documentation for alternative solver options:\n    https://scikit-learn.org/stable/modules/linear_model.html#logistic-regression\n  n_iter_i = _check_optimize_result(\n"
     ]
    },
    {
     "output_type": "execute_result",
     "data": {
      "text/plain": [
       "LogisticRegression(max_iter=1000)"
      ]
     },
     "metadata": {},
     "execution_count": 8
    }
   ],
   "source": [
    "# Logistic regression model\n",
    "logit = LogisticRegression(max_iter=1000)\n",
    "logit.fit(X_train, y_train)"
   ]
  },
  {
   "cell_type": "code",
   "execution_count": 9,
   "metadata": {},
   "outputs": [
    {
     "output_type": "execute_result",
     "data": {
      "text/plain": [
       "array([[43332,     0],\n",
       "       [  394,     0]], dtype=int64)"
      ]
     },
     "metadata": {},
     "execution_count": 9
    }
   ],
   "source": [
    "# Baseline model\n",
    "confusion_matrix(y_test, y_test_baseline)"
   ]
  },
  {
   "cell_type": "code",
   "execution_count": 10,
   "metadata": {},
   "outputs": [
    {
     "output_type": "execute_result",
     "data": {
      "text/plain": [
       "array([[43331,     1],\n",
       "       [  166,   228]], dtype=int64)"
      ]
     },
     "metadata": {},
     "execution_count": 10
    }
   ],
   "source": [
    "# Random forest\n",
    "confusion_matrix(y_test, rf.predict(X_test))"
   ]
  },
  {
   "cell_type": "code",
   "execution_count": 11,
   "metadata": {},
   "outputs": [
    {
     "output_type": "execute_result",
     "data": {
      "text/plain": [
       "array([[43314,    18],\n",
       "       [  109,   285]], dtype=int64)"
      ]
     },
     "metadata": {},
     "execution_count": 11
    }
   ],
   "source": [
    "# Logistic regression\n",
    "confusion_matrix(y_test, logit.predict(X_test))"
   ]
  },
  {
   "source": [
    "## FPR and FNR"
   ],
   "cell_type": "markdown",
   "metadata": {}
  },
  {
   "cell_type": "code",
   "execution_count": 12,
   "metadata": {},
   "outputs": [
    {
     "output_type": "execute_result",
     "data": {
      "text/plain": [
       "array([43332,     0,   394,     0], dtype=int64)"
      ]
     },
     "metadata": {},
     "execution_count": 12
    }
   ],
   "source": [
    "confusion_matrix(y_test, y_test_baseline).ravel()"
   ]
  },
  {
   "cell_type": "code",
   "execution_count": 13,
   "metadata": {},
   "outputs": [
    {
     "output_type": "stream",
     "name": "stdout",
     "text": [
      "False positive rate of the baseline model: 0.0\nFalse negative rate of the baseline model: 1.0\n"
     ]
    }
   ],
   "source": [
    "tn, fp, fn, tp = confusion_matrix(y_test, y_test_baseline).ravel()\n",
    "\n",
    "fpr = fp / (tn + fp)\n",
    "fnr = fn / (tp + fn)\n",
    "\n",
    "print(f\"False positive rate of the baseline model: {fpr}\")\n",
    "print(f\"False negative rate of the baseline model: {fnr}\")"
   ]
  },
  {
   "cell_type": "code",
   "execution_count": 14,
   "metadata": {},
   "outputs": [
    {
     "output_type": "stream",
     "name": "stdout",
     "text": [
      "False positive rate of the random forest model: 2.307763315794332e-05\n",
      "False negative rate of the random forest model: 0.4213197969543147\n"
     ]
    }
   ],
   "source": [
    "tn, fp, fn, tp = confusion_matrix(y_test, rf.predict(X_test)).ravel()\n",
    "\n",
    "fpr = fp / (tn + fp)\n",
    "fnr = fn / (tp + fn)\n",
    "\n",
    "print(f\"False positive rate of the random forest model: {fpr}\")\n",
    "print(f\"False negative rate of the random forest model: {fnr}\")"
   ]
  },
  {
   "cell_type": "code",
   "execution_count": 15,
   "metadata": {},
   "outputs": [
    {
     "output_type": "stream",
     "name": "stdout",
     "text": [
      "False positive rate of the logistic regression model: 0.0004153973968429798\nFalse negative rate of the logistic regression model: 0.2766497461928934\n"
     ]
    }
   ],
   "source": [
    "tn, fp, fn, tp = confusion_matrix(y_test, logit.predict(X_test)).ravel()\n",
    "\n",
    "fpr = fp / (tn + fp)\n",
    "fnr = fn / (tp + fn)\n",
    "\n",
    "print(f\"False positive rate of the logistic regression model: {fpr}\")\n",
    "print(f\"False negative rate of the logistic regression model: {fnr}\")"
   ]
  },
  {
   "cell_type": "code",
   "execution_count": 16,
   "metadata": {},
   "outputs": [
    {
     "output_type": "execute_result",
     "data": {
      "text/plain": [
       "   0  1\n",
       "0  a  1\n",
       "1  b  2"
      ],
      "text/html": "<div>\n<style scoped>\n    .dataframe tbody tr th:only-of-type {\n        vertical-align: middle;\n    }\n\n    .dataframe tbody tr th {\n        vertical-align: top;\n    }\n\n    .dataframe thead th {\n        text-align: right;\n    }\n</style>\n<table border=\"1\" class=\"dataframe\">\n  <thead>\n    <tr style=\"text-align: right;\">\n      <th></th>\n      <th>0</th>\n      <th>1</th>\n    </tr>\n  </thead>\n  <tbody>\n    <tr>\n      <th>0</th>\n      <td>a</td>\n      <td>1</td>\n    </tr>\n    <tr>\n      <th>1</th>\n      <td>b</td>\n      <td>2</td>\n    </tr>\n  </tbody>\n</table>\n</div>"
     },
     "metadata": {},
     "execution_count": 16
    }
   ],
   "source": [
    "pd.DataFrame(zip([\"a\", \"b\"], [1, 2]))"
   ]
  },
  {
   "cell_type": "code",
   "execution_count": 17,
   "metadata": {},
   "outputs": [],
   "source": [
    "thresholds = np.linspace(0, 1, 100)\n",
    "\n",
    "fpr_list, fnr_list = [], []\n",
    "\n",
    "logit_prob_preds = logit.predict_proba(X_test)[:, 1]\n",
    "\n",
    "for threshold in thresholds:\n",
    "    # The predicted classes\n",
    "    preds = np.where(logit_prob_preds>=threshold, 1, 0)\n",
    "\n",
    "    # Confusion matrix\n",
    "    tn, fp, fn, tp = confusion_matrix(y_test, preds).ravel()\n",
    "\n",
    "    # FNR and FPR\n",
    "    fnr = fn / (fn + tp)\n",
    "    fpr = fp / (fp + tn)\n",
    "\n",
    "    fnr_list.append(fnr)\n",
    "    fpr_list.append(fpr)\n",
    "\n",
    "metrics = pd.DataFrame(\n",
    "    zip(fpr_list, fnr_list), \n",
    "    columns=[\"fpr\", \"fnr\"],\n",
    "    index=thresholds\n",
    ")\n"
   ]
  },
  {
   "cell_type": "code",
   "execution_count": 18,
   "metadata": {},
   "outputs": [
    {
     "output_type": "execute_result",
     "data": {
      "text/plain": [
       "               fpr       fnr\n",
       "0.000000  1.000000  0.000000\n",
       "0.010101  0.037155  0.055838\n",
       "0.020202  0.019939  0.088832\n",
       "0.030303  0.013685  0.098985\n",
       "0.040404  0.010200  0.104061"
      ],
      "text/html": "<div>\n<style scoped>\n    .dataframe tbody tr th:only-of-type {\n        vertical-align: middle;\n    }\n\n    .dataframe tbody tr th {\n        vertical-align: top;\n    }\n\n    .dataframe thead th {\n        text-align: right;\n    }\n</style>\n<table border=\"1\" class=\"dataframe\">\n  <thead>\n    <tr style=\"text-align: right;\">\n      <th></th>\n      <th>fpr</th>\n      <th>fnr</th>\n    </tr>\n  </thead>\n  <tbody>\n    <tr>\n      <th>0.000000</th>\n      <td>1.000000</td>\n      <td>0.000000</td>\n    </tr>\n    <tr>\n      <th>0.010101</th>\n      <td>0.037155</td>\n      <td>0.055838</td>\n    </tr>\n    <tr>\n      <th>0.020202</th>\n      <td>0.019939</td>\n      <td>0.088832</td>\n    </tr>\n    <tr>\n      <th>0.030303</th>\n      <td>0.013685</td>\n      <td>0.098985</td>\n    </tr>\n    <tr>\n      <th>0.040404</th>\n      <td>0.010200</td>\n      <td>0.104061</td>\n    </tr>\n  </tbody>\n</table>\n</div>"
     },
     "metadata": {},
     "execution_count": 18
    }
   ],
   "source": [
    "metrics.head()"
   ]
  },
  {
   "cell_type": "code",
   "execution_count": 19,
   "metadata": {},
   "outputs": [
    {
     "output_type": "execute_result",
     "data": {
      "text/plain": [
       "Text(0.5, 1.0, 'FPR & FNR vs. Probability threshold')"
      ]
     },
     "metadata": {},
     "execution_count": 19
    },
    {
     "output_type": "display_data",
     "data": {
      "text/plain": "<Figure size 432x288 with 1 Axes>",
      "image/svg+xml": "<?xml version=\"1.0\" encoding=\"utf-8\" standalone=\"no\"?>\r\n<!DOCTYPE svg PUBLIC \"-//W3C//DTD SVG 1.1//EN\"\r\n  \"http://www.w3.org/Graphics/SVG/1.1/DTD/svg11.dtd\">\r\n<svg height=\"277.314375pt\" version=\"1.1\" viewBox=\"0 0 385.78125 277.314375\" width=\"385.78125pt\" xmlns=\"http://www.w3.org/2000/svg\" xmlns:xlink=\"http://www.w3.org/1999/xlink\">\r\n <metadata>\r\n  <rdf:RDF xmlns:cc=\"http://creativecommons.org/ns#\" xmlns:dc=\"http://purl.org/dc/elements/1.1/\" xmlns:rdf=\"http://www.w3.org/1999/02/22-rdf-syntax-ns#\">\r\n   <cc:Work>\r\n    <dc:type rdf:resource=\"http://purl.org/dc/dcmitype/StillImage\"/>\r\n    <dc:date>2021-07-14T21:19:18.533497</dc:date>\r\n    <dc:format>image/svg+xml</dc:format>\r\n    <dc:creator>\r\n     <cc:Agent>\r\n      <dc:title>Matplotlib v3.4.2, https://matplotlib.org/</dc:title>\r\n     </cc:Agent>\r\n    </dc:creator>\r\n   </cc:Work>\r\n  </rdf:RDF>\r\n </metadata>\r\n <defs>\r\n  <style type=\"text/css\">*{stroke-linecap:butt;stroke-linejoin:round;}</style>\r\n </defs>\r\n <g id=\"figure_1\">\r\n  <g id=\"patch_1\">\r\n   <path d=\"M 0 277.314375 \r\nL 385.78125 277.314375 \r\nL 385.78125 0 \r\nL 0 0 \r\nz\r\n\" style=\"fill:none;\"/>\r\n  </g>\r\n  <g id=\"axes_1\">\r\n   <g id=\"patch_2\">\r\n    <path d=\"M 43.78125 239.758125 \r\nL 378.58125 239.758125 \r\nL 378.58125 22.318125 \r\nL 43.78125 22.318125 \r\nz\r\n\" style=\"fill:#ffffff;\"/>\r\n   </g>\r\n   <g id=\"matplotlib.axis_1\">\r\n    <g id=\"xtick_1\">\r\n     <g id=\"line2d_1\">\r\n      <defs>\r\n       <path d=\"M 0 0 \r\nL 0 3.5 \r\n\" id=\"m351984dca5\" style=\"stroke:#000000;stroke-width:0.8;\"/>\r\n      </defs>\r\n      <g>\r\n       <use style=\"stroke:#000000;stroke-width:0.8;\" x=\"58.999432\" xlink:href=\"#m351984dca5\" y=\"239.758125\"/>\r\n      </g>\r\n     </g>\r\n     <g id=\"text_1\">\r\n      <!-- 0.0 -->\r\n      <g transform=\"translate(51.047869 254.356562)scale(0.1 -0.1)\">\r\n       <defs>\r\n        <path d=\"M 2034 4250 \r\nQ 1547 4250 1301 3770 \r\nQ 1056 3291 1056 2328 \r\nQ 1056 1369 1301 889 \r\nQ 1547 409 2034 409 \r\nQ 2525 409 2770 889 \r\nQ 3016 1369 3016 2328 \r\nQ 3016 3291 2770 3770 \r\nQ 2525 4250 2034 4250 \r\nz\r\nM 2034 4750 \r\nQ 2819 4750 3233 4129 \r\nQ 3647 3509 3647 2328 \r\nQ 3647 1150 3233 529 \r\nQ 2819 -91 2034 -91 \r\nQ 1250 -91 836 529 \r\nQ 422 1150 422 2328 \r\nQ 422 3509 836 4129 \r\nQ 1250 4750 2034 4750 \r\nz\r\n\" id=\"DejaVuSans-30\" transform=\"scale(0.015625)\"/>\r\n        <path d=\"M 684 794 \r\nL 1344 794 \r\nL 1344 0 \r\nL 684 0 \r\nL 684 794 \r\nz\r\n\" id=\"DejaVuSans-2e\" transform=\"scale(0.015625)\"/>\r\n       </defs>\r\n       <use xlink:href=\"#DejaVuSans-30\"/>\r\n       <use x=\"63.623047\" xlink:href=\"#DejaVuSans-2e\"/>\r\n       <use x=\"95.410156\" xlink:href=\"#DejaVuSans-30\"/>\r\n      </g>\r\n     </g>\r\n    </g>\r\n    <g id=\"xtick_2\">\r\n     <g id=\"line2d_2\">\r\n      <g>\r\n       <use style=\"stroke:#000000;stroke-width:0.8;\" x=\"119.872159\" xlink:href=\"#m351984dca5\" y=\"239.758125\"/>\r\n      </g>\r\n     </g>\r\n     <g id=\"text_2\">\r\n      <!-- 0.2 -->\r\n      <g transform=\"translate(111.920597 254.356562)scale(0.1 -0.1)\">\r\n       <defs>\r\n        <path d=\"M 1228 531 \r\nL 3431 531 \r\nL 3431 0 \r\nL 469 0 \r\nL 469 531 \r\nQ 828 903 1448 1529 \r\nQ 2069 2156 2228 2338 \r\nQ 2531 2678 2651 2914 \r\nQ 2772 3150 2772 3378 \r\nQ 2772 3750 2511 3984 \r\nQ 2250 4219 1831 4219 \r\nQ 1534 4219 1204 4116 \r\nQ 875 4013 500 3803 \r\nL 500 4441 \r\nQ 881 4594 1212 4672 \r\nQ 1544 4750 1819 4750 \r\nQ 2544 4750 2975 4387 \r\nQ 3406 4025 3406 3419 \r\nQ 3406 3131 3298 2873 \r\nQ 3191 2616 2906 2266 \r\nQ 2828 2175 2409 1742 \r\nQ 1991 1309 1228 531 \r\nz\r\n\" id=\"DejaVuSans-32\" transform=\"scale(0.015625)\"/>\r\n       </defs>\r\n       <use xlink:href=\"#DejaVuSans-30\"/>\r\n       <use x=\"63.623047\" xlink:href=\"#DejaVuSans-2e\"/>\r\n       <use x=\"95.410156\" xlink:href=\"#DejaVuSans-32\"/>\r\n      </g>\r\n     </g>\r\n    </g>\r\n    <g id=\"xtick_3\">\r\n     <g id=\"line2d_3\">\r\n      <g>\r\n       <use style=\"stroke:#000000;stroke-width:0.8;\" x=\"180.744886\" xlink:href=\"#m351984dca5\" y=\"239.758125\"/>\r\n      </g>\r\n     </g>\r\n     <g id=\"text_3\">\r\n      <!-- 0.4 -->\r\n      <g transform=\"translate(172.793324 254.356562)scale(0.1 -0.1)\">\r\n       <defs>\r\n        <path d=\"M 2419 4116 \r\nL 825 1625 \r\nL 2419 1625 \r\nL 2419 4116 \r\nz\r\nM 2253 4666 \r\nL 3047 4666 \r\nL 3047 1625 \r\nL 3713 1625 \r\nL 3713 1100 \r\nL 3047 1100 \r\nL 3047 0 \r\nL 2419 0 \r\nL 2419 1100 \r\nL 313 1100 \r\nL 313 1709 \r\nL 2253 4666 \r\nz\r\n\" id=\"DejaVuSans-34\" transform=\"scale(0.015625)\"/>\r\n       </defs>\r\n       <use xlink:href=\"#DejaVuSans-30\"/>\r\n       <use x=\"63.623047\" xlink:href=\"#DejaVuSans-2e\"/>\r\n       <use x=\"95.410156\" xlink:href=\"#DejaVuSans-34\"/>\r\n      </g>\r\n     </g>\r\n    </g>\r\n    <g id=\"xtick_4\">\r\n     <g id=\"line2d_4\">\r\n      <g>\r\n       <use style=\"stroke:#000000;stroke-width:0.8;\" x=\"241.617614\" xlink:href=\"#m351984dca5\" y=\"239.758125\"/>\r\n      </g>\r\n     </g>\r\n     <g id=\"text_4\">\r\n      <!-- 0.6 -->\r\n      <g transform=\"translate(233.666051 254.356562)scale(0.1 -0.1)\">\r\n       <defs>\r\n        <path d=\"M 2113 2584 \r\nQ 1688 2584 1439 2293 \r\nQ 1191 2003 1191 1497 \r\nQ 1191 994 1439 701 \r\nQ 1688 409 2113 409 \r\nQ 2538 409 2786 701 \r\nQ 3034 994 3034 1497 \r\nQ 3034 2003 2786 2293 \r\nQ 2538 2584 2113 2584 \r\nz\r\nM 3366 4563 \r\nL 3366 3988 \r\nQ 3128 4100 2886 4159 \r\nQ 2644 4219 2406 4219 \r\nQ 1781 4219 1451 3797 \r\nQ 1122 3375 1075 2522 \r\nQ 1259 2794 1537 2939 \r\nQ 1816 3084 2150 3084 \r\nQ 2853 3084 3261 2657 \r\nQ 3669 2231 3669 1497 \r\nQ 3669 778 3244 343 \r\nQ 2819 -91 2113 -91 \r\nQ 1303 -91 875 529 \r\nQ 447 1150 447 2328 \r\nQ 447 3434 972 4092 \r\nQ 1497 4750 2381 4750 \r\nQ 2619 4750 2861 4703 \r\nQ 3103 4656 3366 4563 \r\nz\r\n\" id=\"DejaVuSans-36\" transform=\"scale(0.015625)\"/>\r\n       </defs>\r\n       <use xlink:href=\"#DejaVuSans-30\"/>\r\n       <use x=\"63.623047\" xlink:href=\"#DejaVuSans-2e\"/>\r\n       <use x=\"95.410156\" xlink:href=\"#DejaVuSans-36\"/>\r\n      </g>\r\n     </g>\r\n    </g>\r\n    <g id=\"xtick_5\">\r\n     <g id=\"line2d_5\">\r\n      <g>\r\n       <use style=\"stroke:#000000;stroke-width:0.8;\" x=\"302.490341\" xlink:href=\"#m351984dca5\" y=\"239.758125\"/>\r\n      </g>\r\n     </g>\r\n     <g id=\"text_5\">\r\n      <!-- 0.8 -->\r\n      <g transform=\"translate(294.538778 254.356562)scale(0.1 -0.1)\">\r\n       <defs>\r\n        <path d=\"M 2034 2216 \r\nQ 1584 2216 1326 1975 \r\nQ 1069 1734 1069 1313 \r\nQ 1069 891 1326 650 \r\nQ 1584 409 2034 409 \r\nQ 2484 409 2743 651 \r\nQ 3003 894 3003 1313 \r\nQ 3003 1734 2745 1975 \r\nQ 2488 2216 2034 2216 \r\nz\r\nM 1403 2484 \r\nQ 997 2584 770 2862 \r\nQ 544 3141 544 3541 \r\nQ 544 4100 942 4425 \r\nQ 1341 4750 2034 4750 \r\nQ 2731 4750 3128 4425 \r\nQ 3525 4100 3525 3541 \r\nQ 3525 3141 3298 2862 \r\nQ 3072 2584 2669 2484 \r\nQ 3125 2378 3379 2068 \r\nQ 3634 1759 3634 1313 \r\nQ 3634 634 3220 271 \r\nQ 2806 -91 2034 -91 \r\nQ 1263 -91 848 271 \r\nQ 434 634 434 1313 \r\nQ 434 1759 690 2068 \r\nQ 947 2378 1403 2484 \r\nz\r\nM 1172 3481 \r\nQ 1172 3119 1398 2916 \r\nQ 1625 2713 2034 2713 \r\nQ 2441 2713 2670 2916 \r\nQ 2900 3119 2900 3481 \r\nQ 2900 3844 2670 4047 \r\nQ 2441 4250 2034 4250 \r\nQ 1625 4250 1398 4047 \r\nQ 1172 3844 1172 3481 \r\nz\r\n\" id=\"DejaVuSans-38\" transform=\"scale(0.015625)\"/>\r\n       </defs>\r\n       <use xlink:href=\"#DejaVuSans-30\"/>\r\n       <use x=\"63.623047\" xlink:href=\"#DejaVuSans-2e\"/>\r\n       <use x=\"95.410156\" xlink:href=\"#DejaVuSans-38\"/>\r\n      </g>\r\n     </g>\r\n    </g>\r\n    <g id=\"xtick_6\">\r\n     <g id=\"line2d_6\">\r\n      <g>\r\n       <use style=\"stroke:#000000;stroke-width:0.8;\" x=\"363.363068\" xlink:href=\"#m351984dca5\" y=\"239.758125\"/>\r\n      </g>\r\n     </g>\r\n     <g id=\"text_6\">\r\n      <!-- 1.0 -->\r\n      <g transform=\"translate(355.411506 254.356562)scale(0.1 -0.1)\">\r\n       <defs>\r\n        <path d=\"M 794 531 \r\nL 1825 531 \r\nL 1825 4091 \r\nL 703 3866 \r\nL 703 4441 \r\nL 1819 4666 \r\nL 2450 4666 \r\nL 2450 531 \r\nL 3481 531 \r\nL 3481 0 \r\nL 794 0 \r\nL 794 531 \r\nz\r\n\" id=\"DejaVuSans-31\" transform=\"scale(0.015625)\"/>\r\n       </defs>\r\n       <use xlink:href=\"#DejaVuSans-31\"/>\r\n       <use x=\"63.623047\" xlink:href=\"#DejaVuSans-2e\"/>\r\n       <use x=\"95.410156\" xlink:href=\"#DejaVuSans-30\"/>\r\n      </g>\r\n     </g>\r\n    </g>\r\n    <g id=\"text_7\">\r\n     <!-- Probability threshold -->\r\n     <g transform=\"translate(159.61875 268.034687)scale(0.1 -0.1)\">\r\n      <defs>\r\n       <path d=\"M 1259 4147 \r\nL 1259 2394 \r\nL 2053 2394 \r\nQ 2494 2394 2734 2622 \r\nQ 2975 2850 2975 3272 \r\nQ 2975 3691 2734 3919 \r\nQ 2494 4147 2053 4147 \r\nL 1259 4147 \r\nz\r\nM 628 4666 \r\nL 2053 4666 \r\nQ 2838 4666 3239 4311 \r\nQ 3641 3956 3641 3272 \r\nQ 3641 2581 3239 2228 \r\nQ 2838 1875 2053 1875 \r\nL 1259 1875 \r\nL 1259 0 \r\nL 628 0 \r\nL 628 4666 \r\nz\r\n\" id=\"DejaVuSans-50\" transform=\"scale(0.015625)\"/>\r\n       <path d=\"M 2631 2963 \r\nQ 2534 3019 2420 3045 \r\nQ 2306 3072 2169 3072 \r\nQ 1681 3072 1420 2755 \r\nQ 1159 2438 1159 1844 \r\nL 1159 0 \r\nL 581 0 \r\nL 581 3500 \r\nL 1159 3500 \r\nL 1159 2956 \r\nQ 1341 3275 1631 3429 \r\nQ 1922 3584 2338 3584 \r\nQ 2397 3584 2469 3576 \r\nQ 2541 3569 2628 3553 \r\nL 2631 2963 \r\nz\r\n\" id=\"DejaVuSans-72\" transform=\"scale(0.015625)\"/>\r\n       <path d=\"M 1959 3097 \r\nQ 1497 3097 1228 2736 \r\nQ 959 2375 959 1747 \r\nQ 959 1119 1226 758 \r\nQ 1494 397 1959 397 \r\nQ 2419 397 2687 759 \r\nQ 2956 1122 2956 1747 \r\nQ 2956 2369 2687 2733 \r\nQ 2419 3097 1959 3097 \r\nz\r\nM 1959 3584 \r\nQ 2709 3584 3137 3096 \r\nQ 3566 2609 3566 1747 \r\nQ 3566 888 3137 398 \r\nQ 2709 -91 1959 -91 \r\nQ 1206 -91 779 398 \r\nQ 353 888 353 1747 \r\nQ 353 2609 779 3096 \r\nQ 1206 3584 1959 3584 \r\nz\r\n\" id=\"DejaVuSans-6f\" transform=\"scale(0.015625)\"/>\r\n       <path d=\"M 3116 1747 \r\nQ 3116 2381 2855 2742 \r\nQ 2594 3103 2138 3103 \r\nQ 1681 3103 1420 2742 \r\nQ 1159 2381 1159 1747 \r\nQ 1159 1113 1420 752 \r\nQ 1681 391 2138 391 \r\nQ 2594 391 2855 752 \r\nQ 3116 1113 3116 1747 \r\nz\r\nM 1159 2969 \r\nQ 1341 3281 1617 3432 \r\nQ 1894 3584 2278 3584 \r\nQ 2916 3584 3314 3078 \r\nQ 3713 2572 3713 1747 \r\nQ 3713 922 3314 415 \r\nQ 2916 -91 2278 -91 \r\nQ 1894 -91 1617 61 \r\nQ 1341 213 1159 525 \r\nL 1159 0 \r\nL 581 0 \r\nL 581 4863 \r\nL 1159 4863 \r\nL 1159 2969 \r\nz\r\n\" id=\"DejaVuSans-62\" transform=\"scale(0.015625)\"/>\r\n       <path d=\"M 2194 1759 \r\nQ 1497 1759 1228 1600 \r\nQ 959 1441 959 1056 \r\nQ 959 750 1161 570 \r\nQ 1363 391 1709 391 \r\nQ 2188 391 2477 730 \r\nQ 2766 1069 2766 1631 \r\nL 2766 1759 \r\nL 2194 1759 \r\nz\r\nM 3341 1997 \r\nL 3341 0 \r\nL 2766 0 \r\nL 2766 531 \r\nQ 2569 213 2275 61 \r\nQ 1981 -91 1556 -91 \r\nQ 1019 -91 701 211 \r\nQ 384 513 384 1019 \r\nQ 384 1609 779 1909 \r\nQ 1175 2209 1959 2209 \r\nL 2766 2209 \r\nL 2766 2266 \r\nQ 2766 2663 2505 2880 \r\nQ 2244 3097 1772 3097 \r\nQ 1472 3097 1187 3025 \r\nQ 903 2953 641 2809 \r\nL 641 3341 \r\nQ 956 3463 1253 3523 \r\nQ 1550 3584 1831 3584 \r\nQ 2591 3584 2966 3190 \r\nQ 3341 2797 3341 1997 \r\nz\r\n\" id=\"DejaVuSans-61\" transform=\"scale(0.015625)\"/>\r\n       <path d=\"M 603 3500 \r\nL 1178 3500 \r\nL 1178 0 \r\nL 603 0 \r\nL 603 3500 \r\nz\r\nM 603 4863 \r\nL 1178 4863 \r\nL 1178 4134 \r\nL 603 4134 \r\nL 603 4863 \r\nz\r\n\" id=\"DejaVuSans-69\" transform=\"scale(0.015625)\"/>\r\n       <path d=\"M 603 4863 \r\nL 1178 4863 \r\nL 1178 0 \r\nL 603 0 \r\nL 603 4863 \r\nz\r\n\" id=\"DejaVuSans-6c\" transform=\"scale(0.015625)\"/>\r\n       <path d=\"M 1172 4494 \r\nL 1172 3500 \r\nL 2356 3500 \r\nL 2356 3053 \r\nL 1172 3053 \r\nL 1172 1153 \r\nQ 1172 725 1289 603 \r\nQ 1406 481 1766 481 \r\nL 2356 481 \r\nL 2356 0 \r\nL 1766 0 \r\nQ 1100 0 847 248 \r\nQ 594 497 594 1153 \r\nL 594 3053 \r\nL 172 3053 \r\nL 172 3500 \r\nL 594 3500 \r\nL 594 4494 \r\nL 1172 4494 \r\nz\r\n\" id=\"DejaVuSans-74\" transform=\"scale(0.015625)\"/>\r\n       <path d=\"M 2059 -325 \r\nQ 1816 -950 1584 -1140 \r\nQ 1353 -1331 966 -1331 \r\nL 506 -1331 \r\nL 506 -850 \r\nL 844 -850 \r\nQ 1081 -850 1212 -737 \r\nQ 1344 -625 1503 -206 \r\nL 1606 56 \r\nL 191 3500 \r\nL 800 3500 \r\nL 1894 763 \r\nL 2988 3500 \r\nL 3597 3500 \r\nL 2059 -325 \r\nz\r\n\" id=\"DejaVuSans-79\" transform=\"scale(0.015625)\"/>\r\n       <path id=\"DejaVuSans-20\" transform=\"scale(0.015625)\"/>\r\n       <path d=\"M 3513 2113 \r\nL 3513 0 \r\nL 2938 0 \r\nL 2938 2094 \r\nQ 2938 2591 2744 2837 \r\nQ 2550 3084 2163 3084 \r\nQ 1697 3084 1428 2787 \r\nQ 1159 2491 1159 1978 \r\nL 1159 0 \r\nL 581 0 \r\nL 581 4863 \r\nL 1159 4863 \r\nL 1159 2956 \r\nQ 1366 3272 1645 3428 \r\nQ 1925 3584 2291 3584 \r\nQ 2894 3584 3203 3211 \r\nQ 3513 2838 3513 2113 \r\nz\r\n\" id=\"DejaVuSans-68\" transform=\"scale(0.015625)\"/>\r\n       <path d=\"M 3597 1894 \r\nL 3597 1613 \r\nL 953 1613 \r\nQ 991 1019 1311 708 \r\nQ 1631 397 2203 397 \r\nQ 2534 397 2845 478 \r\nQ 3156 559 3463 722 \r\nL 3463 178 \r\nQ 3153 47 2828 -22 \r\nQ 2503 -91 2169 -91 \r\nQ 1331 -91 842 396 \r\nQ 353 884 353 1716 \r\nQ 353 2575 817 3079 \r\nQ 1281 3584 2069 3584 \r\nQ 2775 3584 3186 3129 \r\nQ 3597 2675 3597 1894 \r\nz\r\nM 3022 2063 \r\nQ 3016 2534 2758 2815 \r\nQ 2500 3097 2075 3097 \r\nQ 1594 3097 1305 2825 \r\nQ 1016 2553 972 2059 \r\nL 3022 2063 \r\nz\r\n\" id=\"DejaVuSans-65\" transform=\"scale(0.015625)\"/>\r\n       <path d=\"M 2834 3397 \r\nL 2834 2853 \r\nQ 2591 2978 2328 3040 \r\nQ 2066 3103 1784 3103 \r\nQ 1356 3103 1142 2972 \r\nQ 928 2841 928 2578 \r\nQ 928 2378 1081 2264 \r\nQ 1234 2150 1697 2047 \r\nL 1894 2003 \r\nQ 2506 1872 2764 1633 \r\nQ 3022 1394 3022 966 \r\nQ 3022 478 2636 193 \r\nQ 2250 -91 1575 -91 \r\nQ 1294 -91 989 -36 \r\nQ 684 19 347 128 \r\nL 347 722 \r\nQ 666 556 975 473 \r\nQ 1284 391 1588 391 \r\nQ 1994 391 2212 530 \r\nQ 2431 669 2431 922 \r\nQ 2431 1156 2273 1281 \r\nQ 2116 1406 1581 1522 \r\nL 1381 1569 \r\nQ 847 1681 609 1914 \r\nQ 372 2147 372 2553 \r\nQ 372 3047 722 3315 \r\nQ 1072 3584 1716 3584 \r\nQ 2034 3584 2315 3537 \r\nQ 2597 3491 2834 3397 \r\nz\r\n\" id=\"DejaVuSans-73\" transform=\"scale(0.015625)\"/>\r\n       <path d=\"M 2906 2969 \r\nL 2906 4863 \r\nL 3481 4863 \r\nL 3481 0 \r\nL 2906 0 \r\nL 2906 525 \r\nQ 2725 213 2448 61 \r\nQ 2172 -91 1784 -91 \r\nQ 1150 -91 751 415 \r\nQ 353 922 353 1747 \r\nQ 353 2572 751 3078 \r\nQ 1150 3584 1784 3584 \r\nQ 2172 3584 2448 3432 \r\nQ 2725 3281 2906 2969 \r\nz\r\nM 947 1747 \r\nQ 947 1113 1208 752 \r\nQ 1469 391 1925 391 \r\nQ 2381 391 2643 752 \r\nQ 2906 1113 2906 1747 \r\nQ 2906 2381 2643 2742 \r\nQ 2381 3103 1925 3103 \r\nQ 1469 3103 1208 2742 \r\nQ 947 2381 947 1747 \r\nz\r\n\" id=\"DejaVuSans-64\" transform=\"scale(0.015625)\"/>\r\n      </defs>\r\n      <use xlink:href=\"#DejaVuSans-50\"/>\r\n      <use x=\"58.552734\" xlink:href=\"#DejaVuSans-72\"/>\r\n      <use x=\"97.416016\" xlink:href=\"#DejaVuSans-6f\"/>\r\n      <use x=\"158.597656\" xlink:href=\"#DejaVuSans-62\"/>\r\n      <use x=\"222.074219\" xlink:href=\"#DejaVuSans-61\"/>\r\n      <use x=\"283.353516\" xlink:href=\"#DejaVuSans-62\"/>\r\n      <use x=\"346.830078\" xlink:href=\"#DejaVuSans-69\"/>\r\n      <use x=\"374.613281\" xlink:href=\"#DejaVuSans-6c\"/>\r\n      <use x=\"402.396484\" xlink:href=\"#DejaVuSans-69\"/>\r\n      <use x=\"430.179688\" xlink:href=\"#DejaVuSans-74\"/>\r\n      <use x=\"469.388672\" xlink:href=\"#DejaVuSans-79\"/>\r\n      <use x=\"528.568359\" xlink:href=\"#DejaVuSans-20\"/>\r\n      <use x=\"560.355469\" xlink:href=\"#DejaVuSans-74\"/>\r\n      <use x=\"599.564453\" xlink:href=\"#DejaVuSans-68\"/>\r\n      <use x=\"662.943359\" xlink:href=\"#DejaVuSans-72\"/>\r\n      <use x=\"701.806641\" xlink:href=\"#DejaVuSans-65\"/>\r\n      <use x=\"763.330078\" xlink:href=\"#DejaVuSans-73\"/>\r\n      <use x=\"815.429688\" xlink:href=\"#DejaVuSans-68\"/>\r\n      <use x=\"878.808594\" xlink:href=\"#DejaVuSans-6f\"/>\r\n      <use x=\"939.990234\" xlink:href=\"#DejaVuSans-6c\"/>\r\n      <use x=\"967.773438\" xlink:href=\"#DejaVuSans-64\"/>\r\n     </g>\r\n    </g>\r\n   </g>\r\n   <g id=\"matplotlib.axis_2\">\r\n    <g id=\"ytick_1\">\r\n     <g id=\"line2d_7\">\r\n      <defs>\r\n       <path d=\"M 0 0 \r\nL -3.5 0 \r\n\" id=\"m2d37316b3b\" style=\"stroke:#000000;stroke-width:0.8;\"/>\r\n      </defs>\r\n      <g>\r\n       <use style=\"stroke:#000000;stroke-width:0.8;\" x=\"43.78125\" xlink:href=\"#m2d37316b3b\" y=\"229.874489\"/>\r\n      </g>\r\n     </g>\r\n     <g id=\"text_8\">\r\n      <!-- 0.0 -->\r\n      <g transform=\"translate(20.878125 233.673707)scale(0.1 -0.1)\">\r\n       <use xlink:href=\"#DejaVuSans-30\"/>\r\n       <use x=\"63.623047\" xlink:href=\"#DejaVuSans-2e\"/>\r\n       <use x=\"95.410156\" xlink:href=\"#DejaVuSans-30\"/>\r\n      </g>\r\n     </g>\r\n    </g>\r\n    <g id=\"ytick_2\">\r\n     <g id=\"line2d_8\">\r\n      <g>\r\n       <use style=\"stroke:#000000;stroke-width:0.8;\" x=\"43.78125\" xlink:href=\"#m2d37316b3b\" y=\"190.339943\"/>\r\n      </g>\r\n     </g>\r\n     <g id=\"text_9\">\r\n      <!-- 0.2 -->\r\n      <g transform=\"translate(20.878125 194.139162)scale(0.1 -0.1)\">\r\n       <use xlink:href=\"#DejaVuSans-30\"/>\r\n       <use x=\"63.623047\" xlink:href=\"#DejaVuSans-2e\"/>\r\n       <use x=\"95.410156\" xlink:href=\"#DejaVuSans-32\"/>\r\n      </g>\r\n     </g>\r\n    </g>\r\n    <g id=\"ytick_3\">\r\n     <g id=\"line2d_9\">\r\n      <g>\r\n       <use style=\"stroke:#000000;stroke-width:0.8;\" x=\"43.78125\" xlink:href=\"#m2d37316b3b\" y=\"150.805398\"/>\r\n      </g>\r\n     </g>\r\n     <g id=\"text_10\">\r\n      <!-- 0.4 -->\r\n      <g transform=\"translate(20.878125 154.604616)scale(0.1 -0.1)\">\r\n       <use xlink:href=\"#DejaVuSans-30\"/>\r\n       <use x=\"63.623047\" xlink:href=\"#DejaVuSans-2e\"/>\r\n       <use x=\"95.410156\" xlink:href=\"#DejaVuSans-34\"/>\r\n      </g>\r\n     </g>\r\n    </g>\r\n    <g id=\"ytick_4\">\r\n     <g id=\"line2d_10\">\r\n      <g>\r\n       <use style=\"stroke:#000000;stroke-width:0.8;\" x=\"43.78125\" xlink:href=\"#m2d37316b3b\" y=\"111.270852\"/>\r\n      </g>\r\n     </g>\r\n     <g id=\"text_11\">\r\n      <!-- 0.6 -->\r\n      <g transform=\"translate(20.878125 115.070071)scale(0.1 -0.1)\">\r\n       <use xlink:href=\"#DejaVuSans-30\"/>\r\n       <use x=\"63.623047\" xlink:href=\"#DejaVuSans-2e\"/>\r\n       <use x=\"95.410156\" xlink:href=\"#DejaVuSans-36\"/>\r\n      </g>\r\n     </g>\r\n    </g>\r\n    <g id=\"ytick_5\">\r\n     <g id=\"line2d_11\">\r\n      <g>\r\n       <use style=\"stroke:#000000;stroke-width:0.8;\" x=\"43.78125\" xlink:href=\"#m2d37316b3b\" y=\"71.736307\"/>\r\n      </g>\r\n     </g>\r\n     <g id=\"text_12\">\r\n      <!-- 0.8 -->\r\n      <g transform=\"translate(20.878125 75.535526)scale(0.1 -0.1)\">\r\n       <use xlink:href=\"#DejaVuSans-30\"/>\r\n       <use x=\"63.623047\" xlink:href=\"#DejaVuSans-2e\"/>\r\n       <use x=\"95.410156\" xlink:href=\"#DejaVuSans-38\"/>\r\n      </g>\r\n     </g>\r\n    </g>\r\n    <g id=\"ytick_6\">\r\n     <g id=\"line2d_12\">\r\n      <g>\r\n       <use style=\"stroke:#000000;stroke-width:0.8;\" x=\"43.78125\" xlink:href=\"#m2d37316b3b\" y=\"32.201761\"/>\r\n      </g>\r\n     </g>\r\n     <g id=\"text_13\">\r\n      <!-- 1.0 -->\r\n      <g transform=\"translate(20.878125 36.00098)scale(0.1 -0.1)\">\r\n       <use xlink:href=\"#DejaVuSans-31\"/>\r\n       <use x=\"63.623047\" xlink:href=\"#DejaVuSans-2e\"/>\r\n       <use x=\"95.410156\" xlink:href=\"#DejaVuSans-30\"/>\r\n      </g>\r\n     </g>\r\n    </g>\r\n    <g id=\"text_14\">\r\n     <!-- FPR &amp; FNR -->\r\n     <g transform=\"translate(14.798438 157.570937)rotate(-90)scale(0.1 -0.1)\">\r\n      <defs>\r\n       <path d=\"M 628 4666 \r\nL 3309 4666 \r\nL 3309 4134 \r\nL 1259 4134 \r\nL 1259 2759 \r\nL 3109 2759 \r\nL 3109 2228 \r\nL 1259 2228 \r\nL 1259 0 \r\nL 628 0 \r\nL 628 4666 \r\nz\r\n\" id=\"DejaVuSans-46\" transform=\"scale(0.015625)\"/>\r\n       <path d=\"M 2841 2188 \r\nQ 3044 2119 3236 1894 \r\nQ 3428 1669 3622 1275 \r\nL 4263 0 \r\nL 3584 0 \r\nL 2988 1197 \r\nQ 2756 1666 2539 1819 \r\nQ 2322 1972 1947 1972 \r\nL 1259 1972 \r\nL 1259 0 \r\nL 628 0 \r\nL 628 4666 \r\nL 2053 4666 \r\nQ 2853 4666 3247 4331 \r\nQ 3641 3997 3641 3322 \r\nQ 3641 2881 3436 2590 \r\nQ 3231 2300 2841 2188 \r\nz\r\nM 1259 4147 \r\nL 1259 2491 \r\nL 2053 2491 \r\nQ 2509 2491 2742 2702 \r\nQ 2975 2913 2975 3322 \r\nQ 2975 3731 2742 3939 \r\nQ 2509 4147 2053 4147 \r\nL 1259 4147 \r\nz\r\n\" id=\"DejaVuSans-52\" transform=\"scale(0.015625)\"/>\r\n       <path d=\"M 1556 2509 \r\nQ 1272 2256 1139 2004 \r\nQ 1006 1753 1006 1478 \r\nQ 1006 1022 1337 719 \r\nQ 1669 416 2169 416 \r\nQ 2466 416 2725 514 \r\nQ 2984 613 3213 813 \r\nL 1556 2509 \r\nz\r\nM 1997 2859 \r\nL 3584 1234 \r\nQ 3769 1513 3872 1830 \r\nQ 3975 2147 3994 2503 \r\nL 4575 2503 \r\nQ 4538 2091 4375 1687 \r\nQ 4213 1284 3922 891 \r\nL 4794 0 \r\nL 4006 0 \r\nL 3559 459 \r\nQ 3234 181 2878 45 \r\nQ 2522 -91 2113 -91 \r\nQ 1359 -91 881 339 \r\nQ 403 769 403 1441 \r\nQ 403 1841 612 2192 \r\nQ 822 2544 1241 2853 \r\nQ 1091 3050 1012 3245 \r\nQ 934 3441 934 3628 \r\nQ 934 4134 1281 4442 \r\nQ 1628 4750 2203 4750 \r\nQ 2463 4750 2720 4694 \r\nQ 2978 4638 3244 4525 \r\nL 3244 3956 \r\nQ 2972 4103 2725 4179 \r\nQ 2478 4256 2266 4256 \r\nQ 1938 4256 1733 4082 \r\nQ 1528 3909 1528 3634 \r\nQ 1528 3475 1620 3314 \r\nQ 1713 3153 1997 2859 \r\nz\r\n\" id=\"DejaVuSans-26\" transform=\"scale(0.015625)\"/>\r\n       <path d=\"M 628 4666 \r\nL 1478 4666 \r\nL 3547 763 \r\nL 3547 4666 \r\nL 4159 4666 \r\nL 4159 0 \r\nL 3309 0 \r\nL 1241 3903 \r\nL 1241 0 \r\nL 628 0 \r\nL 628 4666 \r\nz\r\n\" id=\"DejaVuSans-4e\" transform=\"scale(0.015625)\"/>\r\n      </defs>\r\n      <use xlink:href=\"#DejaVuSans-46\"/>\r\n      <use x=\"57.519531\" xlink:href=\"#DejaVuSans-50\"/>\r\n      <use x=\"117.822266\" xlink:href=\"#DejaVuSans-52\"/>\r\n      <use x=\"187.304688\" xlink:href=\"#DejaVuSans-20\"/>\r\n      <use x=\"219.091797\" xlink:href=\"#DejaVuSans-26\"/>\r\n      <use x=\"297.070312\" xlink:href=\"#DejaVuSans-20\"/>\r\n      <use x=\"328.857422\" xlink:href=\"#DejaVuSans-46\"/>\r\n      <use x=\"386.376953\" xlink:href=\"#DejaVuSans-4e\"/>\r\n      <use x=\"461.181641\" xlink:href=\"#DejaVuSans-52\"/>\r\n     </g>\r\n    </g>\r\n   </g>\r\n   <g id=\"line2d_13\">\r\n    <path clip-path=\"url(#pe46c4600da)\" d=\"M 58.999432 32.201761 \r\nL 62.073812 222.529961 \r\nL 65.148192 225.933077 \r\nL 68.222572 227.16933 \r\nL 71.296952 227.858165 \r\nL 74.371333 228.241358 \r\nL 77.445713 228.57437 \r\nL 80.520093 228.770529 \r\nL 83.594473 228.916507 \r\nL 86.668853 229.039676 \r\nL 89.743233 229.144598 \r\nL 92.817614 229.22671 \r\nL 95.891994 229.281452 \r\nL 98.966374 229.340756 \r\nL 102.040754 229.37725 \r\nL 105.115134 229.404621 \r\nL 108.189514 229.436554 \r\nL 111.263895 229.441116 \r\nL 114.338275 229.47761 \r\nL 117.412655 229.50042 \r\nL 120.487035 229.523229 \r\nL 123.561415 229.52779 \r\nL 126.635795 229.559723 \r\nL 129.710176 229.573409 \r\nL 132.784556 229.587094 \r\nL 135.858936 229.60078 \r\nL 138.933316 229.609903 \r\nL 142.007696 229.619027 \r\nL 145.082076 229.65096 \r\nL 148.156457 229.669207 \r\nL 151.230837 229.67833 \r\nL 154.305217 229.682892 \r\nL 157.379597 229.682892 \r\nL 160.453977 229.70114 \r\nL 163.528357 229.710263 \r\nL 166.602738 229.710263 \r\nL 169.677118 229.714825 \r\nL 172.751498 229.719387 \r\nL 175.825878 229.733072 \r\nL 178.900258 229.733072 \r\nL 181.974638 229.742196 \r\nL 185.049019 229.75132 \r\nL 188.123399 229.755881 \r\nL 191.197779 229.769567 \r\nL 194.272159 229.769567 \r\nL 197.346539 229.783252 \r\nL 200.420919 229.783252 \r\nL 203.4953 229.783252 \r\nL 206.56968 229.787814 \r\nL 209.64406 229.792376 \r\nL 212.71844 229.796938 \r\nL 215.79282 229.796938 \r\nL 218.8672 229.796938 \r\nL 221.941581 229.810623 \r\nL 225.015961 229.810623 \r\nL 228.090341 229.815185 \r\nL 231.164721 229.819747 \r\nL 234.239101 229.824309 \r\nL 237.313481 229.824309 \r\nL 240.387862 229.824309 \r\nL 243.462242 229.824309 \r\nL 246.536622 229.824309 \r\nL 249.611002 229.824309 \r\nL 252.685382 229.833432 \r\nL 255.759762 229.833432 \r\nL 258.834143 229.833432 \r\nL 261.908523 229.833432 \r\nL 264.982903 229.837994 \r\nL 268.057283 229.842556 \r\nL 271.131663 229.842556 \r\nL 274.206043 229.842556 \r\nL 277.280424 229.842556 \r\nL 280.354804 229.842556 \r\nL 283.429184 229.847118 \r\nL 286.503564 229.85168 \r\nL 289.577944 229.85168 \r\nL 292.652324 229.85168 \r\nL 295.726705 229.85168 \r\nL 298.801085 229.85168 \r\nL 301.875465 229.85168 \r\nL 304.949845 229.85168 \r\nL 308.024225 229.85168 \r\nL 311.098605 229.85168 \r\nL 314.172986 229.85168 \r\nL 317.247366 229.856241 \r\nL 320.321746 229.860803 \r\nL 323.396126 229.860803 \r\nL 326.470506 229.860803 \r\nL 329.544886 229.860803 \r\nL 332.619267 229.860803 \r\nL 335.693647 229.865365 \r\nL 338.768027 229.869927 \r\nL 341.842407 229.869927 \r\nL 344.916787 229.869927 \r\nL 347.991167 229.869927 \r\nL 351.065548 229.869927 \r\nL 354.139928 229.869927 \r\nL 357.214308 229.874489 \r\nL 360.288688 229.874489 \r\nL 363.363068 229.874489 \r\n\" style=\"fill:none;stroke:#1f77b4;stroke-linecap:square;stroke-width:1.5;\"/>\r\n   </g>\r\n   <g id=\"line2d_14\">\r\n    <path clip-path=\"url(#pe46c4600da)\" d=\"M 58.999432 229.874489 \r\nL 62.073812 218.836925 \r\nL 65.148192 212.314729 \r\nL 68.222572 210.307899 \r\nL 71.296952 209.304484 \r\nL 74.371333 206.294239 \r\nL 77.445713 204.28741 \r\nL 80.520093 202.28058 \r\nL 83.594473 199.270335 \r\nL 86.668853 196.260091 \r\nL 89.743233 194.253261 \r\nL 92.817614 193.751554 \r\nL 95.891994 193.249846 \r\nL 98.966374 192.748139 \r\nL 102.040754 192.246431 \r\nL 105.115134 191.243017 \r\nL 108.189514 189.737894 \r\nL 111.263895 189.737894 \r\nL 114.338275 189.737894 \r\nL 117.412655 188.734479 \r\nL 120.487035 188.734479 \r\nL 123.561415 187.229357 \r\nL 126.635795 187.229357 \r\nL 129.710176 187.229357 \r\nL 132.784556 186.225942 \r\nL 135.858936 185.724235 \r\nL 138.933316 185.724235 \r\nL 142.007696 185.222527 \r\nL 145.082076 184.72082 \r\nL 148.156457 184.219113 \r\nL 151.230837 182.71399 \r\nL 154.305217 182.71399 \r\nL 157.379597 182.71399 \r\nL 160.453977 182.71399 \r\nL 163.528357 181.208868 \r\nL 166.602738 181.208868 \r\nL 169.677118 181.208868 \r\nL 172.751498 180.707161 \r\nL 175.825878 180.707161 \r\nL 178.900258 180.205453 \r\nL 181.974638 179.703746 \r\nL 185.049019 178.198623 \r\nL 188.123399 178.198623 \r\nL 191.197779 177.696916 \r\nL 194.272159 176.693501 \r\nL 197.346539 175.690086 \r\nL 200.420919 175.690086 \r\nL 203.4953 175.690086 \r\nL 206.56968 175.690086 \r\nL 209.64406 175.690086 \r\nL 212.71844 175.188379 \r\nL 215.79282 174.184964 \r\nL 218.8672 173.683257 \r\nL 221.941581 173.181549 \r\nL 225.015961 173.181549 \r\nL 228.090341 173.181549 \r\nL 231.164721 173.181549 \r\nL 234.239101 172.679842 \r\nL 237.313481 172.679842 \r\nL 240.387862 172.679842 \r\nL 243.462242 172.679842 \r\nL 246.536622 172.679842 \r\nL 249.611002 172.178134 \r\nL 252.685382 171.676427 \r\nL 255.759762 171.174719 \r\nL 258.834143 170.171305 \r\nL 261.908523 169.669597 \r\nL 264.982903 169.669597 \r\nL 268.057283 169.16789 \r\nL 271.131663 168.164475 \r\nL 274.206043 167.662767 \r\nL 277.280424 167.16106 \r\nL 280.354804 166.157645 \r\nL 283.429184 166.157645 \r\nL 286.503564 165.655938 \r\nL 289.577944 165.655938 \r\nL 292.652324 165.655938 \r\nL 295.726705 164.150815 \r\nL 298.801085 164.150815 \r\nL 301.875465 163.649108 \r\nL 304.949845 163.649108 \r\nL 308.024225 162.645693 \r\nL 311.098605 162.645693 \r\nL 314.172986 162.645693 \r\nL 317.247366 160.638863 \r\nL 320.321746 160.137156 \r\nL 323.396126 158.632034 \r\nL 326.470506 157.628619 \r\nL 329.544886 157.126911 \r\nL 332.619267 156.123496 \r\nL 335.693647 155.120082 \r\nL 338.768027 154.618374 \r\nL 341.842407 152.611544 \r\nL 344.916787 150.604715 \r\nL 347.991167 149.6013 \r\nL 351.065548 148.597885 \r\nL 354.139928 145.58764 \r\nL 357.214308 142.075688 \r\nL 360.288688 134.04837 \r\nL 363.363068 37.720543 \r\n\" style=\"fill:none;stroke:#ff7f0e;stroke-linecap:square;stroke-width:1.5;\"/>\r\n   </g>\r\n   <g id=\"patch_3\">\r\n    <path d=\"M 43.78125 239.758125 \r\nL 43.78125 22.318125 \r\n\" style=\"fill:none;stroke:#000000;stroke-linecap:square;stroke-linejoin:miter;stroke-width:0.8;\"/>\r\n   </g>\r\n   <g id=\"patch_4\">\r\n    <path d=\"M 378.58125 239.758125 \r\nL 378.58125 22.318125 \r\n\" style=\"fill:none;stroke:#000000;stroke-linecap:square;stroke-linejoin:miter;stroke-width:0.8;\"/>\r\n   </g>\r\n   <g id=\"patch_5\">\r\n    <path d=\"M 43.78125 239.758125 \r\nL 378.58125 239.758125 \r\n\" style=\"fill:none;stroke:#000000;stroke-linecap:square;stroke-linejoin:miter;stroke-width:0.8;\"/>\r\n   </g>\r\n   <g id=\"patch_6\">\r\n    <path d=\"M 43.78125 22.318125 \r\nL 378.58125 22.318125 \r\n\" style=\"fill:none;stroke:#000000;stroke-linecap:square;stroke-linejoin:miter;stroke-width:0.8;\"/>\r\n   </g>\r\n   <g id=\"text_15\">\r\n    <!-- FPR &amp; FNR vs. Probability threshold -->\r\n    <g transform=\"translate(105.069375 16.318125)scale(0.12 -0.12)\">\r\n     <defs>\r\n      <path d=\"M 191 3500 \r\nL 800 3500 \r\nL 1894 563 \r\nL 2988 3500 \r\nL 3597 3500 \r\nL 2284 0 \r\nL 1503 0 \r\nL 191 3500 \r\nz\r\n\" id=\"DejaVuSans-76\" transform=\"scale(0.015625)\"/>\r\n     </defs>\r\n     <use xlink:href=\"#DejaVuSans-46\"/>\r\n     <use x=\"57.519531\" xlink:href=\"#DejaVuSans-50\"/>\r\n     <use x=\"117.822266\" xlink:href=\"#DejaVuSans-52\"/>\r\n     <use x=\"187.304688\" xlink:href=\"#DejaVuSans-20\"/>\r\n     <use x=\"219.091797\" xlink:href=\"#DejaVuSans-26\"/>\r\n     <use x=\"297.070312\" xlink:href=\"#DejaVuSans-20\"/>\r\n     <use x=\"328.857422\" xlink:href=\"#DejaVuSans-46\"/>\r\n     <use x=\"386.376953\" xlink:href=\"#DejaVuSans-4e\"/>\r\n     <use x=\"461.181641\" xlink:href=\"#DejaVuSans-52\"/>\r\n     <use x=\"530.664062\" xlink:href=\"#DejaVuSans-20\"/>\r\n     <use x=\"562.451172\" xlink:href=\"#DejaVuSans-76\"/>\r\n     <use x=\"621.630859\" xlink:href=\"#DejaVuSans-73\"/>\r\n     <use x=\"673.730469\" xlink:href=\"#DejaVuSans-2e\"/>\r\n     <use x=\"705.517578\" xlink:href=\"#DejaVuSans-20\"/>\r\n     <use x=\"737.304688\" xlink:href=\"#DejaVuSans-50\"/>\r\n     <use x=\"795.857422\" xlink:href=\"#DejaVuSans-72\"/>\r\n     <use x=\"834.720703\" xlink:href=\"#DejaVuSans-6f\"/>\r\n     <use x=\"895.902344\" xlink:href=\"#DejaVuSans-62\"/>\r\n     <use x=\"959.378906\" xlink:href=\"#DejaVuSans-61\"/>\r\n     <use x=\"1020.658203\" xlink:href=\"#DejaVuSans-62\"/>\r\n     <use x=\"1084.134766\" xlink:href=\"#DejaVuSans-69\"/>\r\n     <use x=\"1111.917969\" xlink:href=\"#DejaVuSans-6c\"/>\r\n     <use x=\"1139.701172\" xlink:href=\"#DejaVuSans-69\"/>\r\n     <use x=\"1167.484375\" xlink:href=\"#DejaVuSans-74\"/>\r\n     <use x=\"1206.693359\" xlink:href=\"#DejaVuSans-79\"/>\r\n     <use x=\"1265.873047\" xlink:href=\"#DejaVuSans-20\"/>\r\n     <use x=\"1297.660156\" xlink:href=\"#DejaVuSans-74\"/>\r\n     <use x=\"1336.869141\" xlink:href=\"#DejaVuSans-68\"/>\r\n     <use x=\"1400.248047\" xlink:href=\"#DejaVuSans-72\"/>\r\n     <use x=\"1439.111328\" xlink:href=\"#DejaVuSans-65\"/>\r\n     <use x=\"1500.634766\" xlink:href=\"#DejaVuSans-73\"/>\r\n     <use x=\"1552.734375\" xlink:href=\"#DejaVuSans-68\"/>\r\n     <use x=\"1616.113281\" xlink:href=\"#DejaVuSans-6f\"/>\r\n     <use x=\"1677.294922\" xlink:href=\"#DejaVuSans-6c\"/>\r\n     <use x=\"1705.078125\" xlink:href=\"#DejaVuSans-64\"/>\r\n    </g>\r\n   </g>\r\n   <g id=\"legend_1\">\r\n    <g id=\"patch_7\">\r\n     <path d=\"M 188.191406 59.674375 \r\nL 234.171094 59.674375 \r\nQ 236.171094 59.674375 236.171094 57.674375 \r\nL 236.171094 29.318125 \r\nQ 236.171094 27.318125 234.171094 27.318125 \r\nL 188.191406 27.318125 \r\nQ 186.191406 27.318125 186.191406 29.318125 \r\nL 186.191406 57.674375 \r\nQ 186.191406 59.674375 188.191406 59.674375 \r\nz\r\n\" style=\"fill:#ffffff;opacity:0.8;stroke:#cccccc;stroke-linejoin:miter;\"/>\r\n    </g>\r\n    <g id=\"line2d_15\">\r\n     <path d=\"M 190.191406 35.416562 \r\nL 210.191406 35.416562 \r\n\" style=\"fill:none;stroke:#1f77b4;stroke-linecap:square;stroke-width:1.5;\"/>\r\n    </g>\r\n    <g id=\"line2d_16\"/>\r\n    <g id=\"text_16\">\r\n     <!-- fpr -->\r\n     <g transform=\"translate(218.191406 38.916562)scale(0.1 -0.1)\">\r\n      <defs>\r\n       <path d=\"M 2375 4863 \r\nL 2375 4384 \r\nL 1825 4384 \r\nQ 1516 4384 1395 4259 \r\nQ 1275 4134 1275 3809 \r\nL 1275 3500 \r\nL 2222 3500 \r\nL 2222 3053 \r\nL 1275 3053 \r\nL 1275 0 \r\nL 697 0 \r\nL 697 3053 \r\nL 147 3053 \r\nL 147 3500 \r\nL 697 3500 \r\nL 697 3744 \r\nQ 697 4328 969 4595 \r\nQ 1241 4863 1831 4863 \r\nL 2375 4863 \r\nz\r\n\" id=\"DejaVuSans-66\" transform=\"scale(0.015625)\"/>\r\n       <path d=\"M 1159 525 \r\nL 1159 -1331 \r\nL 581 -1331 \r\nL 581 3500 \r\nL 1159 3500 \r\nL 1159 2969 \r\nQ 1341 3281 1617 3432 \r\nQ 1894 3584 2278 3584 \r\nQ 2916 3584 3314 3078 \r\nQ 3713 2572 3713 1747 \r\nQ 3713 922 3314 415 \r\nQ 2916 -91 2278 -91 \r\nQ 1894 -91 1617 61 \r\nQ 1341 213 1159 525 \r\nz\r\nM 3116 1747 \r\nQ 3116 2381 2855 2742 \r\nQ 2594 3103 2138 3103 \r\nQ 1681 3103 1420 2742 \r\nQ 1159 2381 1159 1747 \r\nQ 1159 1113 1420 752 \r\nQ 1681 391 2138 391 \r\nQ 2594 391 2855 752 \r\nQ 3116 1113 3116 1747 \r\nz\r\n\" id=\"DejaVuSans-70\" transform=\"scale(0.015625)\"/>\r\n      </defs>\r\n      <use xlink:href=\"#DejaVuSans-66\"/>\r\n      <use x=\"35.205078\" xlink:href=\"#DejaVuSans-70\"/>\r\n      <use x=\"98.681641\" xlink:href=\"#DejaVuSans-72\"/>\r\n     </g>\r\n    </g>\r\n    <g id=\"line2d_17\">\r\n     <path d=\"M 190.191406 50.094687 \r\nL 210.191406 50.094687 \r\n\" style=\"fill:none;stroke:#ff7f0e;stroke-linecap:square;stroke-width:1.5;\"/>\r\n    </g>\r\n    <g id=\"line2d_18\"/>\r\n    <g id=\"text_17\">\r\n     <!-- fnr -->\r\n     <g transform=\"translate(218.191406 53.594687)scale(0.1 -0.1)\">\r\n      <defs>\r\n       <path d=\"M 3513 2113 \r\nL 3513 0 \r\nL 2938 0 \r\nL 2938 2094 \r\nQ 2938 2591 2744 2837 \r\nQ 2550 3084 2163 3084 \r\nQ 1697 3084 1428 2787 \r\nQ 1159 2491 1159 1978 \r\nL 1159 0 \r\nL 581 0 \r\nL 581 3500 \r\nL 1159 3500 \r\nL 1159 2956 \r\nQ 1366 3272 1645 3428 \r\nQ 1925 3584 2291 3584 \r\nQ 2894 3584 3203 3211 \r\nQ 3513 2838 3513 2113 \r\nz\r\n\" id=\"DejaVuSans-6e\" transform=\"scale(0.015625)\"/>\r\n      </defs>\r\n      <use xlink:href=\"#DejaVuSans-66\"/>\r\n      <use x=\"35.205078\" xlink:href=\"#DejaVuSans-6e\"/>\r\n      <use x=\"98.583984\" xlink:href=\"#DejaVuSans-72\"/>\r\n     </g>\r\n    </g>\r\n   </g>\r\n  </g>\r\n </g>\r\n <defs>\r\n  <clipPath id=\"pe46c4600da\">\r\n   <rect height=\"217.44\" width=\"334.8\" x=\"43.78125\" y=\"22.318125\"/>\r\n  </clipPath>\r\n </defs>\r\n</svg>\r\n",
      "image/png": "[encoded data removed]"
     },
     "metadata": {
      "needs_background": "light"
     }
    }
   ],
   "source": [
    "metrics.plot()\n",
    "plt.xlabel(\"Probability threshold\")\n",
    "plt.ylabel(\"FPR & FNR\")\n",
    "plt.title(\"FPR & FNR vs. Probability threshold\")"
   ]
  }
 ]
}